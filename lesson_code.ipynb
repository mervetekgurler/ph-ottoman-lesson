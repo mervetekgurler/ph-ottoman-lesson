{
 "cells": [
  {
   "cell_type": "markdown",
   "id": "e0dfe72c",
   "metadata": {},
   "source": [
    "# PH Lesson"
   ]
  },
  {
   "cell_type": "markdown",
   "id": "618ae979",
   "metadata": {},
   "source": [
    "- What to expect\n",
    "- What is in the corpus?\n",
    "  - Vasif\n",
    "- Why"
   ]
  },
  {
   "cell_type": "markdown",
   "id": "6f4ce285",
   "metadata": {},
   "source": [
    "## Text Extraction"
   ]
  },
  {
   "cell_type": "markdown",
   "id": "64715196",
   "metadata": {},
   "source": [
    "- ABBYY FineReader -> HTML\n",
    "- Alternative: just getting the text file: hard to split!\n",
    "- Alternative: Gemini 2.5: technology not there yet"
   ]
  },
  {
   "cell_type": "markdown",
   "id": "3969af58",
   "metadata": {},
   "source": [
    "Here is what a PDF looks like"
   ]
  },
  {
   "cell_type": "markdown",
   "id": "39f16c10",
   "metadata": {},
   "source": [
    "Here is the HTML\n",
    "    some code about how I worked with the html to extract text\n",
    "    Splitting text into years and the years into subheadings"
   ]
  },
  {
   "cell_type": "markdown",
   "id": "5336b27d",
   "metadata": {},
   "source": [
    "Is there a way to do this with beautiful soup?"
   ]
  },
  {
   "cell_type": "code",
   "execution_count": null,
   "id": "dd8011b6",
   "metadata": {},
   "outputs": [],
   "source": [
    "import os\n",
    "import re\n",
    "import pandas as pd\n",
    "import csv\n",
    "import numpy as np"
   ]
  },
  {
   "cell_type": "code",
   "execution_count": null,
   "id": "57115f17",
   "metadata": {},
   "outputs": [],
   "source": [
    "def configure_for_text_file(text_file_name):\n",
    "    config = {}\n",
    "    if text_file_name == 'ahmedcevdet_17741783_ttk_ft.txt':\n",
    "        config['year_regex'] = '<p><span class=\\\"font4\\\" style=\\\"font-weight:bold;\\\">.*?\\d{4}</span></p>'\n",
    "        config['subheading_regex'] = '<p><span class=\\\"font4\\\" style=\\\"font-weight:bold;\\\">.*?</span></p>'\n",
    "\n",
    "    elif text_file_name == 'ahmedcevdet_17831786_ttk_ft.txt':\n",
    "        config['year_regex'] = '<h1>.*?\\d{4}.*?</h1>'\n",
    "        config['subheading_regex'] = '<h2><a name=\".*\"></a><span class=\"font6\" style=\"font-weight:bold;\">.*</span></h2>'\n",
    "\n",
    "    elif text_file_name == 'enveri_17741783_ft.txt':\n",
    "        config['year_regex'] = '\\(\\d{4}\\/1'\n",
    "        config['subheading_regex'] = '<h5><a name=\"bookmark\\\\d+\"></a><span class=\"font13\" style=\"font-weight:bold;\">(?:<a name=\"bookmark\\\\d+\"></a>)*.*?</span></h5>'\n",
    "\n",
    "    elif text_file_name == 'enveri_17681774_ft.txt':\n",
    "        config['year_regex'] = '(?:(?:<p><span class=\\\"font21\\\" style=\\\"font-weight:bold;\\\">)VEK.+(?:</span></p>))'\n",
    "        config['subheading_regex'] = '(?:(?:<p><span class=\\\"font21\\\" style=\\\"font-weight:bold;\\\">).+(?:</span></p>))'\n",
    "\n",
    "    elif text_file_name == 'vasif_17521774_ft.txt':\n",
    "        config['year_regex'] = '<(?:p|h2)>.*<span class=\"font15\" style=\"font-weight:bold;\">(?:<a name=\"bookmark\\d+\"></a>)*VEK.*?</(?:p|h2)>'\n",
    "        config['subheading_regex'] = '<h2><a name=\"bookmark\\d+\"></a><span class=\"[^\"]+\" style=\"[^\"]+\"><a name=\"bookmark\\d+\"></a>(.*?)</span></h2>'\n",
    "\n",
    "    elif text_file_name == 'vasif_17741779_ft.txt':\n",
    "        config['year_regex'] = '<p><span class=\"font15\" style=\"font-weight:bold;\">Vek.*</span></p>'\n",
    "        config['subheading_regex'] = '(?:<p><span class=\"font15\" style=\"font-weight:bold;\">.*</span></p>|<h3><a name=\"bookmark\\d+\"></a><span class=\"font15\" style=\"font-weight:bold;\"><a name=\"bookmark\\d+\"></a>.*</span></h3>)'\n",
    "\n",
    "    elif text_file_name == 'vasif_17821787_ft.txt':\n",
    "        config['year_regex'] = '<p><span class=\"font21\" style=\"font-style:italic;\">Vek.*</span></p>'\n",
    "        config['subheading_regex'] = '<h6><a name=\"bookmark\\d+\"></a><span class=\"font21\" style=\"font-weight:bold;\"><a name=\"bookmark\\d+\"></a>.*</span></h6>'\n",
    "\n",
    "    elif text_file_name == 'vasif_17941805_ft.txt':\n",
    "        config['year_regex'] = '<p><span class=\"font11\" style=\"font-weight:bold;\">VEK.*</span></p>'\n",
    "        config['subheading_regex'] = '<h2><a name=\"bookmark\\d+\"></a><span class=\"font11\" style=\"font-weight:bold;\"><a name=\"bookmark\\d+\"></a>.*</span></h2>'\n",
    "\n",
    "    elif text_file_name == 'nuri_17941799_ft.txt':\n",
    "        config['year_regex'] = '<(?:p|h2)>.*\\[1\\d{3}\\].*</(?:p|h2)>'\n",
    "        config['subheading_regex'] = '<(?:p|h2)>.*<span class=\"font11\" style=\"font-weight:bold;\">.*</(?:p|h2)>'\n",
    "\n",
    "    return config"
   ]
  },
  {
   "cell_type": "code",
   "execution_count": null,
   "id": "8fe08df0",
   "metadata": {},
   "outputs": [],
   "source": [
    "def divide_file_by_year(text, year_regex, output_directory):\n",
    "    year_matches = re.finditer(year_regex, text)\n",
    "\n",
    "    year_breaks = [match.span() for match in year_matches]\n",
    "\n",
    "    if len(year_breaks) == 0:\n",
    "        print(f\"Error with year_regex {output_directory}\")\n",
    "        return\n",
    "\n",
    "    if not os.path.exists(output_directory):\n",
    "        os.makedirs(output_directory)\n",
    "\n",
    "    # Handle introduction section\n",
    "    intro_end = year_breaks[0][0] if year_breaks else len(text)\n",
    "    intro_content = text[:intro_end]\n",
    "\n",
    "    intro_path = os.path.join(output_directory, \"introduction\")\n",
    "    os.makedirs(intro_path, exist_ok=True)\n",
    "    with open(os.path.join(intro_path, \"introduction.txt\"), 'w') as intro_file:\n",
    "        intro_file.write(intro_content)\n",
    "\n",
    "    year_counter = 1\n",
    "    for i in range(len(year_breaks)):\n",
    "        start_index, _ = year_breaks[i]\n",
    "        end_index = year_breaks[i + 1][0] if i + 1 < len(year_breaks) else len(text)\n",
    "\n",
    "        year_content = text[start_index:end_index]\n",
    "\n",
    "        # Extract year for folder naming\n",
    "        year_str = text[year_breaks[i][0]:year_breaks[i][1]]\n",
    "        if 'VEK' in year_str or 'Vek' in year_str:\n",
    "            # Enumerate year if VEK or Vek is found\n",
    "            year_folder_name = f\"Year_{year_counter}\"\n",
    "            year_counter += 1\n",
    "        else:\n",
    "            year_search = re.search(r'\\d{4}', year_str)\n",
    "            if year_search:\n",
    "                year_folder_name = year_search.group()\n",
    "            else:\n",
    "                print(f\"Year not found in text: {year_str}\")\n",
    "\n",
    "        year_path = os.path.join(output_directory, year_folder_name)\n",
    "        os.makedirs(year_path, exist_ok=True)\n",
    "        with open(os.path.join(year_path, year_folder_name + \".txt\"), 'w') as year_file:\n",
    "            year_file.write(year_content)"
   ]
  },
  {
   "cell_type": "code",
   "execution_count": null,
   "id": "b647e251",
   "metadata": {},
   "outputs": [],
   "source": [
    "def divide_file_by_subheadings(file_path, subheading_regex, output_directory, year):\n",
    "    with open(file_path, 'r') as f:\n",
    "        text = f.read()\n",
    "\n",
    "        subheading_matches = re.finditer(subheading_regex, text)\n",
    "        subheading_breaks = [match.span() for match in subheading_matches]\n",
    "\n",
    "        if not subheading_breaks:\n",
    "            print(f\"No subheadings found in {file_path}\")\n",
    "            return\n",
    "\n",
    "        # Handle initial segment before the first subheading\n",
    "        start_index = 0\n",
    "        end_index = subheading_breaks[0][0]\n",
    "        initial_segment = text[start_index:end_index]\n",
    "        with open(os.path.join(output_directory, \"{}_1.txt\".format(year)), 'w') as segment_file:\n",
    "            segment_file.write(initial_segment)\n",
    "\n",
    "        # Start from segment number 2 for subsequent subheadings\n",
    "        segment_number = 2\n",
    "\n",
    "        for start, end in subheading_breaks:\n",
    "            start_index = start\n",
    "            end_index = subheading_breaks[segment_number-1][0] if segment_number-1 < len(subheading_breaks) else len(text)\n",
    "\n",
    "            subheading_content = text[start_index:end_index]\n",
    "\n",
    "            # Format file name: year + segment number\n",
    "            segment_filename = \"{}_{}.txt\".format(year, segment_number)\n",
    "            segment_filename = re.sub('[^\\w\\-_\\. ]', '_', segment_filename)  # Sanitize filename\n",
    "\n",
    "            with open(os.path.join(output_directory, segment_filename), 'w') as segment_file:\n",
    "                segment_file.write(subheading_content)\n",
    "\n",
    "            segment_number += 1"
   ]
  },
  {
   "cell_type": "code",
   "execution_count": null,
   "id": "910eb78c",
   "metadata": {},
   "outputs": [],
   "source": [
    "def clean_text(text):\n",
    "\n",
    "    # Remove HTML tags\n",
    "    text = re.sub(r'\\<[^>]*\\>', '', text)\n",
    "\n",
    "    # These patterns and texts were determined with Umar for the initial fulltext\n",
    "    # extraction and cleaning\n",
    "\n",
    "    regex_patterns = [\n",
    "        '\\([0-9]{1,3}\\s?[ab]\\)', '(\\(|\\[)[0-9]{1,3}\\-[ab](\\)|\\])', '\\(V[arkARK]+.+\\)',\n",
    "        '\\-[0-9]{1,3}[ab]\\-', '\\([Ss]\\.\\s?[0-9]{1,3}\\)', '\\[\\s[0-9]{1,3}\\s\\]',\n",
    "        '\\[[0-9]{1,3}[abAB]\\]', '[0-9]{1,3}[ab]', '\\(\\s*\\)',\n",
    "        '\\(SAFYA\\s([0-9]{1,3}|&amp;)\\)', '\\[M1\\s[0-9]{1,3}\\]',\n",
    "        '(\\[Ü[12]\\s*\\]|\\[Ü[1]\\s*\\-\\s*Ü[2]\\s*\\])', '\\([0-9]{1,3}\\)',\n",
    "        '\\<a\\sname=\\\"bookmark[0-9]+\\\"\\>', '\\<sup\\>[0-9]*'\n",
    "    ]\n",
    "    texts_to_remove = [\n",
    "        '&nbsp;', '&quot;', \"(silik)\", \"(?)\", \"■\", \"(İla)\", \"(la)\", \"(lb)\", \"#\",\n",
    "        \"&amp;\", \"[lb]\"\n",
    "    ]\n",
    "\n",
    "    # Apply regex replacements\n",
    "    for pattern in regex_patterns:\n",
    "        text = re.sub(pattern, \"\", text)\n",
    "\n",
    "    # Apply text replacements\n",
    "    for remove_text in texts_to_remove:\n",
    "        text = text.replace(remove_text, '')\n",
    "\n",
    "    return text"
   ]
  },
  {
   "cell_type": "code",
   "execution_count": null,
   "id": "ec65ad99",
   "metadata": {},
   "outputs": [],
   "source": [
    "def clean_files_in_directory(directory):\n",
    "    for root, dirs, files in os.walk(directory):\n",
    "        for file in files:\n",
    "            if file.endswith(\".txt\"):\n",
    "                file_path = os.path.join(root, file)\n",
    "                with open(file_path, 'r', encoding='utf-8') as f:\n",
    "                    content = f.read()\n",
    "\n",
    "                cleaned_content = clean_text(content)\n",
    "\n",
    "                with open(file_path, 'w', encoding='utf-8') as f:\n",
    "                    f.write(cleaned_content)"
   ]
  },
  {
   "cell_type": "code",
   "execution_count": null,
   "id": "c794b152",
   "metadata": {},
   "outputs": [],
   "source": [
    "import shutil\n",
    "\n",
    "def move_original_year_files_to_folder(year_folder_path, output_directory):\n",
    "    # Determine the name of the year file\n",
    "    year_file_name = os.path.basename(year_folder_path) + \".txt\"\n",
    "    year_file_path = os.path.join(year_folder_path, year_file_name)\n",
    "\n",
    "    # Define the new directory to store the year files\n",
    "    new_directory = output_directory + \"yearfiles/\"\n",
    "    os.makedirs(new_directory, exist_ok=True)\n",
    "\n",
    "    # Define the new file path in the year files directory\n",
    "    new_file_path = os.path.join(new_directory, year_file_name)\n",
    "\n",
    "    # Move the file if it exists\n",
    "    if os.path.exists(year_file_path):\n",
    "        try:\n",
    "            shutil.move(year_file_path, new_file_path)\n",
    "        except Exception as e:\n",
    "            print(f\"Error moving file {year_file_path} to {new_file_path}: {e}\")\n"
   ]
  },
  {
   "cell_type": "code",
   "execution_count": null,
   "id": "0d4efd45",
   "metadata": {},
   "outputs": [],
   "source": [
    "def process_text_file(text_file_name, work_directory, output_directory):\n",
    "    config = configure_for_text_file(text_file_name)\n",
    "\n",
    "    with open(os.path.join(work_directory, text_file_name), 'r', encoding='utf-8') as f:\n",
    "        text = f.read()\n",
    "\n",
    "    divide_file_by_year(text, config['year_regex'], output_directory)\n",
    "\n",
    "    year_folders = os.listdir(output_directory)\n",
    "    for folder in year_folders:\n",
    "        year_folder_path = os.path.join(output_directory, folder)\n",
    "        year_file_path = os.path.join(year_folder_path, folder + \".txt\")\n",
    "        divide_file_by_subheadings(year_file_path, config['subheading_regex'], year_folder_path, folder)\n",
    "        clean_files_in_directory(year_folder_path)\n",
    "        move_original_year_files_to_folder(year_folder_path, output_directory)\n"
   ]
  },
  {
   "cell_type": "code",
   "execution_count": null,
   "id": "9737a066",
   "metadata": {},
   "outputs": [],
   "source": [
    "# vasif_17521774\n",
    "text_file_name = 'vasif_17521774_ft.txt'\n",
    "work_directory = \"html_for_extraction/\"\n",
    "output_directory = 'vasif_17521774/'\n",
    "process_text_file(text_file_name, work_directory, output_directory)"
   ]
  },
  {
   "cell_type": "markdown",
   "id": "5b1ac598",
   "metadata": {},
   "source": [
    "Reflect on Kocasekbanbasi and the Gemini 2.5 differences"
   ]
  },
  {
   "cell_type": "markdown",
   "id": "df10bf67",
   "metadata": {},
   "source": [
    "## Text Normalization"
   ]
  },
  {
   "cell_type": "markdown",
   "id": "b82d74ab",
   "metadata": {},
   "source": [
    "## Topic Modeling"
   ]
  },
  {
   "cell_type": "markdown",
   "id": "35ae26d7",
   "metadata": {},
   "source": []
  }
 ],
 "metadata": {
  "kernelspec": {
   "display_name": "cesta",
   "language": "python",
   "name": "python3"
  },
  "language_info": {
   "name": "python",
   "version": "3.12.2"
  }
 },
 "nbformat": 4,
 "nbformat_minor": 5
}
